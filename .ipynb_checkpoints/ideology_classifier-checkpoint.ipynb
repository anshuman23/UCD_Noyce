{
 "cells": [
  {
   "cell_type": "code",
   "execution_count": 1,
   "metadata": {},
   "outputs": [],
   "source": [
    "import csv\n",
    "import numpy as np\n",
    "import pandas as pd\n",
    "from sklearn.ensemble import RandomForestClassifier\n",
    "from sklearn.linear_model import LogisticRegression\n",
    "import tensorflow_hub as hub\n",
    "from sklearn.metrics import accuracy_score, precision_score, recall_score"
   ]
  },
  {
   "cell_type": "code",
   "execution_count": 2,
   "metadata": {},
   "outputs": [],
   "source": [
    "embed = hub.load(\"https://tfhub.dev/google/universal-sentence-encoder/4\")"
   ]
  },
  {
   "cell_type": "code",
   "execution_count": 3,
   "metadata": {},
   "outputs": [],
   "source": [
    "train_data = pd.read_csv('./Noyce/data/ideology/ideology_train.csv')\n",
    "test_data = pd.read_csv('./Noyce/data/ideology/ideology_test.csv')"
   ]
  },
  {
   "cell_type": "code",
   "execution_count": 4,
   "metadata": {},
   "outputs": [
    {
     "data": {
      "text/plain": [
       "(      class_id                                               text\n",
       " 0            1  Bay stater here. Remember we have a Republican...\n",
       " 1            1  I swear this years elections are even more sca...\n",
       " 2            1  That guy will be the next republican candidate...\n",
       " 3            1  No, Norway is not part of the EU, but neither ...\n",
       " 4            2  Bandito What was morally right ....WAS done wi...\n",
       " ...        ...                                                ...\n",
       " 1345         0  Brilliant idea. The emphasis of the article sh...\n",
       " 1346         0  Pfizer didn't even take Warp Speed money and t...\n",
       " 1347         2  Yes, he's a Democrat. Only Republicans get arr...\n",
       " 1348         1          National Review hasn’t quite learned yet.\n",
       " 1349         2  One irony is the failure of his and his handle...\n",
       " \n",
       " [1350 rows x 2 columns],\n",
       "      class_id                                               text\n",
       " 0           0  The same party that promoted Citizens United s...\n",
       " 1           2  If you're a patriot and don't follow the socia...\n",
       " 2           2  Why haven’t Bill and Hillary been arrested. Si...\n",
       " 3           2  What an amazing pile of bullshit this \"article...\n",
       " 4           2  Of course they are most transparent administra...\n",
       " ..        ...                                                ...\n",
       " 121         0  They way things are going, anyone who still id...\n",
       " 122         1  Wow that is something else. How someone can be...\n",
       " 123         1  “..exceeded expectations..”\\nbut lost ground a...\n",
       " 124         2  And of course the spineless liberals are the o...\n",
       " 125         0  You claim social democracy works better than s...\n",
       " \n",
       " [126 rows x 2 columns])"
      ]
     },
     "execution_count": 4,
     "metadata": {},
     "output_type": "execute_result"
    }
   ],
   "source": [
    "train_data, test_data"
   ]
  },
  {
   "cell_type": "code",
   "execution_count": 5,
   "metadata": {},
   "outputs": [],
   "source": [
    "X_train, y_train = train_data['text'].to_list(), train_data['class_id'].to_list()\n",
    "X_test, y_test = test_data['text'].to_list(), test_data['class_id'].to_list()"
   ]
  },
  {
   "cell_type": "code",
   "execution_count": 6,
   "metadata": {},
   "outputs": [],
   "source": [
    "X_train = embed(X_train)\n",
    "X_test = embed(X_test)"
   ]
  },
  {
   "cell_type": "code",
   "execution_count": 7,
   "metadata": {},
   "outputs": [
    {
     "name": "stdout",
     "output_type": "stream",
     "text": [
      "(1350, 512) (126, 512)\n"
     ]
    }
   ],
   "source": [
    "print(X_train.shape, X_test.shape)"
   ]
  },
  {
   "cell_type": "code",
   "execution_count": 8,
   "metadata": {},
   "outputs": [],
   "source": [
    "id_clf = LogisticRegression(random_state=42)"
   ]
  },
  {
   "cell_type": "code",
   "execution_count": 9,
   "metadata": {},
   "outputs": [
    {
     "data": {
      "text/plain": [
       "LogisticRegression(C=1.0, class_weight=None, dual=False, fit_intercept=True,\n",
       "                   intercept_scaling=1, l1_ratio=None, max_iter=100,\n",
       "                   multi_class='auto', n_jobs=None, penalty='l2',\n",
       "                   random_state=42, solver='lbfgs', tol=0.0001, verbose=0,\n",
       "                   warm_start=False)"
      ]
     },
     "execution_count": 9,
     "metadata": {},
     "output_type": "execute_result"
    }
   ],
   "source": [
    "id_clf.fit(X_train, y_train)"
   ]
  },
  {
   "cell_type": "code",
   "execution_count": 10,
   "metadata": {},
   "outputs": [],
   "source": [
    "y_preds = id_clf.predict(X_test)"
   ]
  },
  {
   "cell_type": "code",
   "execution_count": 13,
   "metadata": {},
   "outputs": [
    {
     "name": "stdout",
     "output_type": "stream",
     "text": [
      "0.5317460317460317\n",
      "0.5317460317460317\n",
      "0.5317460317460317\n"
     ]
    }
   ],
   "source": [
    "print(accuracy_score(y_test, y_preds))\n",
    "print(precision_score(y_test, y_preds, average='micro'))\n",
    "print(recall_score(y_test, y_preds, average='micro'))"
   ]
  },
  {
   "cell_type": "code",
   "execution_count": null,
   "metadata": {},
   "outputs": [],
   "source": []
  }
 ],
 "metadata": {
  "kernelspec": {
   "display_name": "Python 3",
   "language": "python",
   "name": "python3"
  },
  "language_info": {
   "codemirror_mode": {
    "name": "ipython",
    "version": 3
   },
   "file_extension": ".py",
   "mimetype": "text/x-python",
   "name": "python",
   "nbconvert_exporter": "python",
   "pygments_lexer": "ipython3",
   "version": "3.7.6"
  }
 },
 "nbformat": 4,
 "nbformat_minor": 2
}
