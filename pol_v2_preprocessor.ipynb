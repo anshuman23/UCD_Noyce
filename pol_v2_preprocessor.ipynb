{
 "cells": [
  {
   "cell_type": "code",
   "execution_count": 1,
   "metadata": {},
   "outputs": [],
   "source": [
    "import csv\n",
    "import numpy as np"
   ]
  },
  {
   "cell_type": "code",
   "execution_count": 2,
   "metadata": {},
   "outputs": [
    {
     "name": "stdout",
     "output_type": "stream",
     "text": [
      "['government', 'politics', 'governance', 'law', 'governmental', 'aristotle', 'politician', 'democratic', 'policy', 'republic', 'social', 'parliamentary', 'election', 'political science', 'nation', 'public administration', 'policy-making', 'country', 'politic', 'politicians', 'partisan', 'polity', 'economic', 'civil', 'public', 'policies', 'democracy', 'ideological', 'local government', 'political system', 'liberal', 'religious', 'debate', 'state', 'administration', 'presidency', 'parliament', 'presidential', 'monarchy', 'influence', 'diplomatic', 'dukes', 'cultural', 'sovereign state', 'reform', 'corruption', 'police', 'elections', 'coalition', 'regime', 'ethics', 'anarchism', 'federation', 'society', 'authoritarianism', 'communism', 'federal government', 'ideology', 'aristocracy', 'tribe', 'power', 'negotiation', 'force', 'adam smith', 'warfare', 'city', 'clans', 'tribes', 'politically', 'company', 'plato', 'confucius', 'latin', 'polis', 'kingship', 'electoral', 'earls', 'leadership', 'counts', 'socio', 'tribute', 'constitutional', 'lordship', 'politicized', 'property', 'inheritance', 'apolitical', 'confiscation', 'semipolitical', 'united nations', 'individualist', 'struggle', 'allegiance', 'civic', 'espionage', 'conspiracy', 'treason', 'party', 'leaders', 'politburo', 'peace', 'opposition', 'peaceful', 'civilian', 'parties', 'jewish', 'affairs', 'gentile', 'critical', 'conflict', 'issues', 'convention', 'agenda', 'focused', 'legal', 'observance', 'criticism', 'focus', 'decades', 'conservative', 'discussion', 'interests', 'polices', 'support', 'question', 'attention', 'celibacy', 'challenges', 'referring', 'involvement', 'pope', 'campaign', 'dealing', 'taxation', 'groups', 'supporting', 'concerned', 'establishment', 'continuing', 'increasingly', 'matters', 'conflicts', 'petition', 'relations', 'efforts', 'communist', 'ongoing', 'views', 'focusing', 'highways', 'debates', 'future', 'recent', 'rather', 'legislation', 'internal', 'term', 'independent', 'majority', 'movement', 'media', 'dead', 'communication', 'commerce', 'approach', 'politica', 'politique', 'koji', 'blok', 'osamu', 'sociopolitical', 'legislative', 'factional', 'populist', 'republican', 'electioneering', 'geopolitical', 'gubernatorial', 'leftist', 'judicial', 'centrist', 'reformist', 'journalistic', 'divisive', 'unprincipled', 'senatorial', 'prosecutorial', 'secessionist', 'rhetorical', 'moral', 'societal', 'congressional', 'intellectual', 'oppositional', 'rightist', 'bureaucratic', 'principled', 'separatist', 'sectarian', 'extremist', 'bonapartist', 'abstract', 'justice', 'socialism', 'curfew', 'revenue', 'anarchy', 'monopoly', 'principle', 'international politics', 'soviet', 'indigent', 'guild', 'colonies', 'agreement', 'imperialism', 'ancient greek', 'french revolution', 'early modern english', 'profit', 'international', 'modern english', 'education', 'middle french', 'nationalism', 'bureaucracy', 'theologico', 'policymaking', 'politicised', 'policial', 'noncandidate', 'unbeholden', 'anticonstitutional', 'ideational', 'politick', 'demagogic', 'divisionary', 'particularistic', 'liberalist', 'establishmentarian', 'demagogical', 'leftish', 'geostrategic', 'electorial', 'unstatesmanlike', 'antitrade', 'megalomanic', 'empowerment', 'latinisation of names', 'governor', 'separatism', 'art of warfare', 'minimalist', 'monarchies', 'multinational', 'executive', 'privatization', 'divine right of kings', 'generalissimo', 'national', 'democracies', 'civilization', 'privy council', 'suzerainty', 'oligarchies', 'bloc', 'constitutional monarchy', 'reich', 'nationalist', 'tyrannies', 'neocolonialism', 'constitutional government', 'president', 'fiefdom', 'senate', 'interpol', 'ombudsman', 'nationally', 'corporatism', 'sovereignty', 'autocracy', 'populism', 'nationalise', 'constitutions', 'patriotism', 'military service', 'capitalism', 'liberalism', 'restoration', 'marxism', 'supranational', 'campaigner', 'nationwide', 'federal', 'manifesto', 'political parties', 'administrative', 'papacy', 'crossbencher', 'tory', 'france', 'preside', 'management', 'collectivism', 'nationality', 'sociality', 'australia', 'contract', 'senator', 'criminal law', 'environmentalism', 'confederation', 'diplomat', 'organisation', 'private law', 'benelux', 'position', 'dominion', 'commissioner', 'trial by jury', 'socialist', 'organization', 'protestant reformation', 'anarchist', 'secede', 'timocracy', 'politicize', 'treasurer', 'neoimperialism', 'rebellion', 'drunk driving', 'autocratic', 'cameroon', 'citizen', 'nationhood', 'globalization', 'financier', 'privatize', 'devolution', 'compatriot', 'rebel', 'political representation', 'federalization', 'govern', 'hierarchy', 'serbian', 'countryman', 'jurisdiction', 'socially', 'judiciary', 'activism', 'political orientation', 'quango', 'corporatist', 'statesperson', 'biopolitics', 'nativism', 'party system', 'mandarinate', 'fedzilla', 'statocracy', 'first amendment to the united states constitution', 'populist party', 'body politic', 'cosmopolitanism', 'antidisestablishmentarianism', 'scienda', 'acculturate', 'leader', 'euroregion', 'head of government', 'tenderpreneur', 'technical standard', 'weights and measures', 'political party', 'extortion', 'countryperson', 'the black plague', 'nepotism', 'postcommunism', 'territorialization', 'patronage', 'the wealth of nations', 'graft', 'japanophilia', 'embezzlement', 'preorganization', 'social control', 'illegal alien', 'neo colony', 'british empire', 'govern country', 'private enterprise', 'business administration', 'u.s.s.r.', 'common good', 'private sector', 'ethical code', 'corporate law', 'foreign policy', 'political ideology', 'labour rights', 'minority government', 'executive branch', 'unite nation', 'privacy policy', \"people's army\", 'cronyism', 'orange order', 'hold rein', 'political corruption', 'commonwealth of nation', 'political asylum', 'hobbes', 'world organization', 'great powers', 'political opposition', 'change management', 'nation state', 'unitary state', 'major party', 'prime minister', 'nation of islam', 'banana republic', 'arab league', 'kleptocracy', 'english civil war', 'political arithmetic', 'conservative party', 'doctrine of necessity', 'surgeon general', 'american colonies', 'political entity', 'american revolution', 'totalitarianism', 'proletarian', 'bourgeoisie', 'diplomacy', 'montesquieu', 'war', 'classless', 'tradition', 'terrorism', 'voltaire', 'egalitarianism', 'sovereign', 'individual', 'rights', 'freedom', 'fascist', 'branch of government', 'chief executive officer', 'equality for everyone', 'blow whistle', 'internal revenue service', 'legislative body', 'brain trust', 'cabinet minister', 'police force', 'operation research', 'vice president', 'top brass', 'company town', 'foreign affair', 'judicial power', 'american civil war', 'national day', 'party state', 'roman republic', 'a. v. dicey', 'nanny state', 'change of guard', 'washington d c', 'global politics', 'yellow horde', 'e government', 'grassroots democracy', 'minority leader', 'self organization', 'tax haven', 'secret society', 'third reich', 'commander in chief', 'human resource', 'war chest', 'social conservative', 'soviet union', 'atomic bomb', 'zero coupon bond', 'party whip', 'world war ii', 'hydrogen bomb', 'nuclear blackmail', 'cuban missile crisis', 'paul james', 'laissez-faire', 'gaullism', 'peronism', 'human rights', 'human development', 'william pitt the elder', 'house of lords', 'john dalberg-acton', 'political repression', 'police brutality', 'organized crime', 'drug trafficking', 'money laundering', 'human trafficking', 'political organization', 'party platform', 'niccolo machiavelli', 'political power', 'harold lasswell', 'political philosophy', 'political economy', 'columbia university', 'francis lieber', 'political spectrum', 'left wing', 'right wing', 'national assembly', 'thomas hobbes', 'secular society', 'communist manifesto', 'free market', 'david hume', 'david ricardo', 'civil libertarianism', 'frederick engels', 'institute for humane studies', 'l. susan brown', 'freedom of will', 'norberto bobbio', 'christian democracy', 'social stratification', 'terza posizione', 'political organisation', 'stateless communism', 'classical liberalism', 'social democracy', 'limited government', 'property rights', 'karl marx', 'john stuart mill', 'political virtues', 'natural rights', 'civil liberties', 'john locke', 'regulated market', 'trump', 'biden', 'donald', 'joe', 'mask', 'masks', 'vaccine', 'vaccines', 'blm', 'black lives matter', 'anti-vaxx', 'kamala', 'harris', 'impeach', 'impeachment', 'bernie', 'sanders']\n"
     ]
    }
   ],
   "source": [
    "fi = open(\"keywords.txt\", \"r\")\n",
    "keywords = fi.readlines()\n",
    "keywords = [keyword.strip('\\n') for keyword in keywords]\n",
    "print(keywords)"
   ]
  },
  {
   "cell_type": "code",
   "execution_count": 3,
   "metadata": {},
   "outputs": [],
   "source": [
    "i = 0\n",
    "text = []\n",
    "with open('./Noyce/data/POLITICAL/v1/political_train.csv', newline='', encoding='utf-8') as csvfile:\n",
    "    reader = csv.reader(csvfile)\n",
    "    for row in reader:\n",
    "        if i != 0:\n",
    "            text.append(str(row[1]))\n",
    "        i += 1\n"
   ]
  },
  {
   "cell_type": "code",
   "execution_count": 4,
   "metadata": {},
   "outputs": [],
   "source": [
    "class_id = [0]*len(text)\n",
    "i = 0\n",
    "for idx, sentence in enumerate(text):\n",
    "    if any(keyword in sentence.lower() for keyword in keywords):\n",
    "        i += 1\n",
    "        class_id[idx] = 1"
   ]
  },
  {
   "cell_type": "code",
   "execution_count": 5,
   "metadata": {},
   "outputs": [],
   "source": [
    "with open('./Noyce/data/POLITICAL/v2/political_train.csv', 'w+', newline='', encoding='utf-8') as csvfile:\n",
    "    csvwriter = csv.writer(csvfile, delimiter=',')\n",
    "    csvwriter.writerow(['class_id', 'text'])\n",
    "    csvwriter.writerows(zip(class_id, text))"
   ]
  },
  {
   "cell_type": "code",
   "execution_count": null,
   "metadata": {},
   "outputs": [],
   "source": []
  }
 ],
 "metadata": {
  "kernelspec": {
   "display_name": "Python 3",
   "language": "python",
   "name": "python3"
  },
  "language_info": {
   "codemirror_mode": {
    "name": "ipython",
    "version": 3
   },
   "file_extension": ".py",
   "mimetype": "text/x-python",
   "name": "python",
   "nbconvert_exporter": "python",
   "pygments_lexer": "ipython3",
   "version": "3.7.6"
  }
 },
 "nbformat": 4,
 "nbformat_minor": 2
}
